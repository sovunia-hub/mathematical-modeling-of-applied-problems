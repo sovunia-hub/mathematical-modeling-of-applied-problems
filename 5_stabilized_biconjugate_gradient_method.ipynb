{
  "nbformat": 4,
  "nbformat_minor": 0,
  "metadata": {
    "colab": {
      "provenance": [],
      "authorship_tag": "ABX9TyOWbf8pPcW69Jewd+q2tO36",
      "include_colab_link": true
    },
    "kernelspec": {
      "name": "python3",
      "display_name": "Python 3"
    },
    "language_info": {
      "name": "python"
    }
  },
  "cells": [
    {
      "cell_type": "markdown",
      "metadata": {
        "id": "view-in-github",
        "colab_type": "text"
      },
      "source": [
        "<a href=\"https://colab.research.google.com/github/sovunia-hub/mathematical-modeling-of-applied-problems/blob/main/5_stabilized_biconjugate_gradient_method.ipynb\" target=\"_parent\"><img src=\"https://colab.research.google.com/assets/colab-badge.svg\" alt=\"Open In Colab\"/></a>"
      ]
    },
    {
      "cell_type": "code",
      "execution_count": null,
      "metadata": {
        "id": "9R9mm78rbNg7"
      },
      "outputs": [],
      "source": [
        "import numpy as np\n",
        "\n",
        "an_sol = lambda x: 3/4 * x"
      ]
    },
    {
      "cell_type": "code",
      "source": [
        "def findAF(N):\n",
        "  a = 0\n",
        "  b = 1\n",
        "  h = np.abs(b - a) / N\n",
        "  x = np.arange(N) * h + h / 2 + a\n",
        "  A = np.zeros((N, N))\n",
        "  for i in range(N):\n",
        "    for j in range(N):\n",
        "      if i == j:\n",
        "        A[i, j] = h * x[i] * x[j] + 1\n",
        "      else:\n",
        "        A[i, j] = h * x[i] * x[j]\n",
        "  return A, x"
      ],
      "metadata": {
        "id": "tYp4RHVdcQtu"
      },
      "execution_count": null,
      "outputs": []
    },
    {
      "cell_type": "code",
      "source": [
        "def findSimpleU(N, eps):\n",
        "  A, f = findAF(N)\n",
        "  I = np.eye(N)\n",
        "  u = np.zeros(N)\n",
        "  B = I - A\n",
        "  f_norm = np.linalg.norm(f)\n",
        "  kol = 0\n",
        "  while True:\n",
        "    kol += 1\n",
        "    u_prev = u\n",
        "    u = B @ u + f\n",
        "    if np.linalg.norm(u - u_prev) / f_norm < eps:\n",
        "      return u, kol"
      ],
      "metadata": {
        "id": "UWjsa7bhcAc0"
      },
      "execution_count": null,
      "outputs": []
    },
    {
      "cell_type": "code",
      "source": [
        "def findGradU(N, eps):\n",
        "  A , f = findAF(N)\n",
        "  u = np.zeros(N)\n",
        "  f_norm = np.linalg.norm(f)\n",
        "  kol = 0\n",
        "  while True:\n",
        "    kol += 1\n",
        "    r = A @ u - f\n",
        "    Ar = A.conj().T @ r\n",
        "    u_prev = u\n",
        "    u = u_prev - (np.linalg.norm(Ar)**2 / np.linalg.norm(A @ Ar)**2) * Ar\n",
        "    if np.linalg.norm(u - u_prev) / f_norm < eps:\n",
        "      return u, kol"
      ],
      "metadata": {
        "id": "-LSuaxPucCKZ"
      },
      "execution_count": null,
      "outputs": []
    },
    {
      "cell_type": "code",
      "source": [
        "def findDoubleGradU(N, eps):\n",
        "  A, f = findAF(N)\n",
        "  u = np.zeros(N)\n",
        "  r = A @ u - f\n",
        "  u_prev = u\n",
        "  Ar = A.conj().T @ r\n",
        "  u = u_prev - (np.linalg.norm(Ar)**2 / np.linalg.norm(A @ Ar)**2) * Ar\n",
        "  f_norm = np.linalg.norm(f)\n",
        "  kol = 1\n",
        "  while True:\n",
        "    kol += 1\n",
        "    r_prev = r\n",
        "    r = A @ u - f\n",
        "    Ar = A.conj().T @ r\n",
        "    u_prev_prev = u_prev\n",
        "    u_prev = u\n",
        "    Ar_norm_square = np.linalg.norm(Ar) ** 2\n",
        "    alpha_gamma = np.linalg.solve(np.array([[np.linalg.norm(r - r_prev) ** 2, Ar_norm_square],\n",
        "                                            [Ar_norm_square, np.linalg.norm(A @ Ar) ** 2]]),\n",
        "                                  np.array([0, Ar_norm_square]))\n",
        "    u = u_prev - alpha_gamma.item(0) * (u_prev - u_prev_prev) - alpha_gamma.item(1) * Ar\n",
        "    if np.linalg.norm(u - u_prev) / f_norm < eps:\n",
        "      return u, kol"
      ],
      "metadata": {
        "id": "kaLa6PDJcEOY"
      },
      "execution_count": null,
      "outputs": []
    },
    {
      "cell_type": "code",
      "source": [
        "def findBiconjGradU(N, eps):\n",
        "  A, f = findAF(N)\n",
        "  u = np.zeros(N)\n",
        "  f_norm = np.linalg.norm(f)\n",
        "\n",
        "  r = f - A @ u\n",
        "  temp_r = r\n",
        "  ro = alp = om = 1\n",
        "  v = p = s = np.zeros(N)\n",
        "  kol = 0\n",
        "\n",
        "  while True:\n",
        "    kol += 1\n",
        "\n",
        "    prev_ro = ro\n",
        "    ro = sum(np.conj(temp_r) * r)\n",
        "    bet = ro / prev_ro * (alp / om)\n",
        "    p = r + bet * (p - om * v)\n",
        "    v = A @ p\n",
        "    alp = ro / sum(np.conj(temp_r) * v)\n",
        "    s = r - alp * v\n",
        "    t = A @ s\n",
        "    om = sum(t * s) / sum(t * t)\n",
        "    u_prev = u\n",
        "    u = u_prev + om * s + alp * p\n",
        "    r = s - om * t\n",
        "\n",
        "    if np.linalg.norm(u - u_prev) / f_norm < eps:\n",
        "      return u, kol"
      ],
      "metadata": {
        "id": "57H6kaMc5HTL"
      },
      "execution_count": null,
      "outputs": []
    },
    {
      "cell_type": "code",
      "source": [
        "N = 1000\n",
        "eps = 1e-8\n",
        "\n",
        "a = 0\n",
        "b = 1\n",
        "h = np.abs(b - a) / N\n",
        "x = np.arange(N) * h + h / 2 + a\n",
        "solution = an_sol(x)\n",
        "\n",
        "%time uSimple, kolSimple = findSimpleU(N, eps)\n",
        "print(f'Метод простых итераций: {kolSimple}')\n",
        "print(f'Ошибка: {sum(np.abs(solution - uSimple)) / sum(np.abs(solution))}\\n')\n",
        "\n",
        "%time uGrad, kolGrad = findGradU(N, eps)\n",
        "print(f'Метод градиентного спуска: {kolGrad}')\n",
        "print(f'Ошибка: {sum(np.abs(solution - uGrad)) / sum(np.abs(solution))}\\n')\n",
        "\n",
        "%time uDoubleGrad, kolDoubleGrad = findDoubleGradU(N, eps)\n",
        "print(f'Двухшаговый метод градиентного спуска: {kolDoubleGrad}')\n",
        "print(f'Ошибка: {sum(np.abs(solution - uDoubleGrad)) / sum(np.abs(solution))}\\n')\n",
        "\n",
        "%time uBiconj, kolBiconj = findBiconjGradU(N, eps)\n",
        "print(f'Метод бисопряженных градиентов: {kolBiconj}')\n",
        "print(f'Ошибка: {sum(np.abs(solution - uBiconj)) / sum(np.abs(solution))}\\n')"
      ],
      "metadata": {
        "colab": {
          "base_uri": "https://localhost:8080/"
        },
        "id": "hJ4c_EatcGQS",
        "outputId": "ea5d93a3-978e-41b2-f4a6-3efd6f2841c0"
      },
      "execution_count": null,
      "outputs": [
        {
          "output_type": "stream",
          "name": "stdout",
          "text": [
            "CPU times: user 1 s, sys: 31.8 ms, total: 1.03 s\n",
            "Wall time: 2.16 s\n",
            "Метод простых итераций: 18\n",
            "Ошибка: 5.991884058270496e-08\n",
            "\n",
            "CPU times: user 727 ms, sys: 49.4 ms, total: 777 ms\n",
            "Wall time: 1.11 s\n",
            "Метод градиентного спуска: 2\n",
            "Ошибка: 6.250000385853205e-08\n",
            "\n",
            "CPU times: user 578 ms, sys: 102 ms, total: 679 ms\n",
            "Wall time: 566 ms\n",
            "Двухшаговый метод градиентного спуска: 2\n",
            "Ошибка: 6.250000385853205e-08\n",
            "\n",
            "CPU times: user 578 ms, sys: 92.7 ms, total: 671 ms\n",
            "Wall time: 581 ms\n",
            "Метод бисопряженных градиентов: 2\n",
            "Ошибка: 6.250000394149216e-08\n",
            "\n"
          ]
        }
      ]
    }
  ]
}