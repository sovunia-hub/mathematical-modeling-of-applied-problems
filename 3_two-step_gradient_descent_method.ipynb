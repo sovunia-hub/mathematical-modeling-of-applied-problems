{
  "nbformat": 4,
  "nbformat_minor": 0,
  "metadata": {
    "colab": {
      "provenance": [],
      "authorship_tag": "ABX9TyPZYHo62IPXs0mflfDzcGPu",
      "include_colab_link": true
    },
    "kernelspec": {
      "name": "python3",
      "display_name": "Python 3"
    },
    "language_info": {
      "name": "python"
    }
  },
  "cells": [
    {
      "cell_type": "markdown",
      "metadata": {
        "id": "view-in-github",
        "colab_type": "text"
      },
      "source": [
        "<a href=\"https://colab.research.google.com/github/sovunia-hub/mathematical-modeling-of-applied-problems/blob/main/3_two-step_gradient_descent_method.ipynb\" target=\"_parent\"><img src=\"https://colab.research.google.com/assets/colab-badge.svg\" alt=\"Open In Colab\"/></a>"
      ]
    },
    {
      "cell_type": "code",
      "execution_count": null,
      "metadata": {
        "id": "9R9mm78rbNg7"
      },
      "outputs": [],
      "source": [
        "import numpy as np\n",
        "\n",
        "an_sol = lambda x: 3/4 * x"
      ]
    },
    {
      "cell_type": "code",
      "source": [
        "def findAF(N):\n",
        "  a = 0\n",
        "  b = 1\n",
        "  h = np.abs(b - a) / N\n",
        "  x = np.arange(N) * h + h / 2 + a\n",
        "  A = np.zeros((N, N))\n",
        "  for i in range(N):\n",
        "    for j in range(N):\n",
        "      if i == j:\n",
        "        A[i, j] = h * x[i] * x[j] + 1\n",
        "      else:\n",
        "        A[i, j] = h * x[i] * x[j]\n",
        "  return A, x"
      ],
      "metadata": {
        "id": "tYp4RHVdcQtu"
      },
      "execution_count": null,
      "outputs": []
    },
    {
      "cell_type": "code",
      "source": [
        "def findSimpleU(N, eps):\n",
        "  A, f = findAF(N)\n",
        "  I = np.eye(N)\n",
        "  u = np.zeros(N)\n",
        "  B = I - A\n",
        "  f_norm = np.linalg.norm(f)\n",
        "  kol = 0\n",
        "  while True:\n",
        "    kol += 1\n",
        "    u_prev = u\n",
        "    u = B @ u + f\n",
        "    if np.linalg.norm(u - u_prev) / f_norm < eps:\n",
        "      return u, kol"
      ],
      "metadata": {
        "id": "UWjsa7bhcAc0"
      },
      "execution_count": null,
      "outputs": []
    },
    {
      "cell_type": "code",
      "source": [
        "def findGradU(N, eps):\n",
        "  A , f = findAF(N)\n",
        "  u = np.zeros(N)\n",
        "  f_norm = np.linalg.norm(f)\n",
        "  kol = 0\n",
        "  while True:\n",
        "    kol += 1\n",
        "    r = A @ u - f\n",
        "    Ar = A.conj().T @ r\n",
        "    u_prev = u\n",
        "    u = u_prev - (np.linalg.norm(Ar)**2 / np.linalg.norm(A @ Ar)**2) * Ar\n",
        "    if np.linalg.norm(u - u_prev) / f_norm < eps:\n",
        "      return u, kol"
      ],
      "metadata": {
        "id": "-LSuaxPucCKZ"
      },
      "execution_count": null,
      "outputs": []
    },
    {
      "cell_type": "code",
      "source": [
        "def findDoubleGradU(N, eps):\n",
        "  A, f = findAF(N)\n",
        "  u = np.zeros(N)\n",
        "  r = A @ u - f\n",
        "  u_prev = u\n",
        "  Ar = A.conj().T @ r\n",
        "  u = u_prev - (np.linalg.norm(Ar)**2 / np.linalg.norm(A @ Ar)**2) * Ar\n",
        "  f_norm = np.linalg.norm(f)\n",
        "  kol = 1\n",
        "  while True:\n",
        "    kol += 1\n",
        "    r_prev = r\n",
        "    r = A @ u - f\n",
        "    Ar = A.conj().T @ r\n",
        "    u_prev_prev = u_prev\n",
        "    u_prev = u\n",
        "    Ar_norm_square = np.linalg.norm(Ar) ** 2\n",
        "    alpha_gamma = np.linalg.solve(np.array([[np.linalg.norm(r - r_prev) ** 2, Ar_norm_square],\n",
        "                                            [Ar_norm_square, np.linalg.norm(A @ Ar) ** 2]]),\n",
        "                                  np.array([0, Ar_norm_square]))\n",
        "    u = u_prev - alpha_gamma.item(0) * (u_prev - u_prev_prev) - alpha_gamma.item(1) * Ar\n",
        "    if np.linalg.norm(u - u_prev) / f_norm < eps:\n",
        "      return u, kol"
      ],
      "metadata": {
        "id": "kaLa6PDJcEOY"
      },
      "execution_count": null,
      "outputs": []
    },
    {
      "cell_type": "code",
      "source": [
        "N = 2000\n",
        "eps = 0.0000000000000001\n",
        "#0.0000000000000001\n",
        "a = 0\n",
        "b = 1\n",
        "h = np.abs(b - a) / N\n",
        "x = np.arange(N) * h + h / 2 + a\n",
        "solution = an_sol(x)\n",
        "\n",
        "%time uSimple, kolSimple = findSimpleU(N, eps)\n",
        "print(f'Метод простых итераций: {kolSimple}')\n",
        "print(f'Ошибка: {sum(np.abs(solution - uSimple)) / sum(np.abs(solution))}\\n')\n",
        "\n",
        "%time uGrad, kolGrad = findGradU(N, eps)\n",
        "print(f'Метод градиентного спуска: {kolGrad}')\n",
        "print(f'Ошибка: {sum(np.abs(solution - uGrad)) / sum(np.abs(solution))}\\n')\n",
        "\n",
        "%time uDoubleGrad, kolDoubleGrad = findDoubleGradU(N, eps)\n",
        "print(f'Двухшаговый метод градиентного спуска: {kolDoubleGrad}')\n",
        "print(f'Ошибка: {sum(np.abs(solution - uDoubleGrad)) / sum(np.abs(solution))}\\n')"
      ],
      "metadata": {
        "colab": {
          "base_uri": "https://localhost:8080/"
        },
        "id": "hJ4c_EatcGQS",
        "outputId": "dd411e0c-e134-4437-8742-13152fc495f1"
      },
      "execution_count": null,
      "outputs": [
        {
          "output_type": "stream",
          "name": "stdout",
          "text": [
            "CPU times: user 2.63 s, sys: 33.4 ms, total: 2.67 s\n",
            "Wall time: 2.62 s\n",
            "Метод простых итераций: 35\n",
            "Ошибка: 1.5625000268050974e-08\n",
            "\n",
            "CPU times: user 2.16 s, sys: 126 ms, total: 2.28 s\n",
            "Wall time: 2.14 s\n",
            "Метод градиентного спуска: 4\n",
            "Ошибка: 1.5625000266328215e-08\n",
            "\n",
            "CPU times: user 2.18 s, sys: 120 ms, total: 2.3 s\n",
            "Wall time: 2.16 s\n",
            "Двухшаговый метод градиентного спуска: 4\n",
            "Ошибка: 1.5625000260419455e-08\n",
            "\n"
          ]
        }
      ]
    }
  ]
}