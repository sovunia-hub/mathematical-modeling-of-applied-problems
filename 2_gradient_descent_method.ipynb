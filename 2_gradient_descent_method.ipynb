{
  "nbformat": 4,
  "nbformat_minor": 0,
  "metadata": {
    "colab": {
      "provenance": [],
      "authorship_tag": "ABX9TyNOCgArS+DeAzovoZl5CJLL",
      "include_colab_link": true
    },
    "kernelspec": {
      "name": "python3",
      "display_name": "Python 3"
    },
    "language_info": {
      "name": "python"
    }
  },
  "cells": [
    {
      "cell_type": "markdown",
      "metadata": {
        "id": "view-in-github",
        "colab_type": "text"
      },
      "source": [
        "<a href=\"https://colab.research.google.com/github/sovunia-hub/mathematical-modeling-of-applied-problems/blob/main/2_gradient_descent_method.ipynb\" target=\"_parent\"><img src=\"https://colab.research.google.com/assets/colab-badge.svg\" alt=\"Open In Colab\"/></a>"
      ]
    },
    {
      "cell_type": "code",
      "source": [
        "import numpy as np"
      ],
      "metadata": {
        "id": "tVKOpuYNeJCR"
      },
      "execution_count": null,
      "outputs": []
    },
    {
      "cell_type": "code",
      "source": [
        "def findSimpleU(N, eps):\n",
        "  a = 0\n",
        "  b = 1\n",
        "  h = np.abs(b - a) / N\n",
        "  x = np.arange(N) * h + h / 2 + a\n",
        "  A = np.zeros((N, N))\n",
        "  I = np.eye(N)\n",
        "  kol = 0\n",
        "  for i in range(N):\n",
        "    for j in range(N):\n",
        "      if i == j:\n",
        "        A[i, j] = h * x[i] * x[j] + 1\n",
        "      else:\n",
        "        A[i, j] = h * x[i] * x[j]\n",
        "  u3 = np.zeros(N)\n",
        "  B = I - A\n",
        "  while True:\n",
        "    kol+=1\n",
        "    prevu3 = u3\n",
        "    u3 = B @ u3 + x\n",
        "    d = np.linalg.norm(u3 - prevu3) / np.linalg.norm(x)\n",
        "    if d < eps:\n",
        "      return u3, kol"
      ],
      "metadata": {
        "id": "TDA6AUzGitmE"
      },
      "execution_count": null,
      "outputs": []
    },
    {
      "cell_type": "code",
      "execution_count": null,
      "metadata": {
        "id": "FNjNTh7GdnHT"
      },
      "outputs": [],
      "source": [
        "def findGradU(N, eps):\n",
        "  a = 0\n",
        "  b = 1\n",
        "  h = np.abs(b - a) / N\n",
        "  x = np.arange(N) * h + h / 2 + a\n",
        "  f = x\n",
        "  A = np.zeros((N, N))\n",
        "  kol = 0\n",
        "  for i in range(N):\n",
        "    for j in range(N):\n",
        "      if i == j:\n",
        "        A[i, j] = h * x[i] * x[j] + 1\n",
        "      else:\n",
        "        A[i, j] = h * x[i] * x[j]\n",
        "  u = np.zeros(N)\n",
        "  while True:\n",
        "    kol += 1\n",
        "    r = A @ u - f\n",
        "    Ar = A.conj().T @ r\n",
        "    prevu = u\n",
        "    u = prevu - (np.linalg.norm(Ar)**2 / np.linalg.norm(A @ Ar)**2) * Ar\n",
        "    d = np.linalg.norm(u - prevu) / np.linalg.norm(f)\n",
        "    if d < eps:\n",
        "      return u, kol"
      ]
    },
    {
      "cell_type": "code",
      "source": [
        "%time kolSimple = findSimpleU(100, 0.00001)[1]\n",
        "%time kolGrad = findGradU(100, 0.00001)[1]\n",
        "print(f'Метод простых итераций: {kolSimple}\\nМетод градиентного спуска: {kolGrad}')"
      ],
      "metadata": {
        "colab": {
          "base_uri": "https://localhost:8080/"
        },
        "id": "oPXy3jk9gQvq",
        "outputId": "8a1de5d4-7d5f-4394-b6ad-3483e9178632"
      },
      "execution_count": null,
      "outputs": [
        {
          "output_type": "stream",
          "name": "stdout",
          "text": [
            "CPU times: user 10.6 ms, sys: 932 µs, total: 11.5 ms\n",
            "Wall time: 27.9 ms\n",
            "CPU times: user 11.1 ms, sys: 10.2 ms, total: 21.2 ms\n",
            "Wall time: 10.6 ms\n",
            "Метод простых итераций: 12\n",
            "Метод градиентного спуска: 2\n"
          ]
        }
      ]
    }
  ]
}