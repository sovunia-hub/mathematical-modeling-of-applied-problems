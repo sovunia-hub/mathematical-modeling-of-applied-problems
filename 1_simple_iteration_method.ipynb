{
  "nbformat": 4,
  "nbformat_minor": 0,
  "metadata": {
    "colab": {
      "provenance": [],
      "authorship_tag": "ABX9TyN49TpyI1e69XX4zPH53jjR",
      "include_colab_link": true
    },
    "kernelspec": {
      "name": "python3",
      "display_name": "Python 3"
    },
    "language_info": {
      "name": "python"
    }
  },
  "cells": [
    {
      "cell_type": "markdown",
      "metadata": {
        "id": "view-in-github",
        "colab_type": "text"
      },
      "source": [
        "<a href=\"https://colab.research.google.com/github/sovunia-hub/mathematical-modeling-of-applied-problems/blob/main/1_simple_iteration_method.ipynb\" target=\"_parent\"><img src=\"https://colab.research.google.com/assets/colab-badge.svg\" alt=\"Open In Colab\"/></a>"
      ]
    },
    {
      "cell_type": "code",
      "execution_count": 1,
      "metadata": {
        "colab": {
          "base_uri": "https://localhost:8080/"
        },
        "id": "JqDm0K-Vl6oS",
        "outputId": "2bdb6c52-2805-4b5d-84fb-76e9a553f934"
      },
      "outputs": [
        {
          "output_type": "stream",
          "name": "stdout",
          "text": [
            "[0.12587413 0.37762238 0.62937063]\n",
            "[0.125 0.375 0.625]\n"
          ]
        }
      ],
      "source": [
        "import numpy as np\n",
        "a = 0\n",
        "b = 1\n",
        "N = 3\n",
        "u1 = lambda x: 3 * x / 4\n",
        "h = np.abs(b - a) / N\n",
        "x = np.arange(N) * h + h / 2 + a\n",
        "A = np.zeros((N, N))\n",
        "for i in range(N):\n",
        "  for j in range(N):\n",
        "    if i == j:\n",
        "      A[i, j] = h * x[i] * x[j] + 1\n",
        "    else:\n",
        "      A[i, j] = h * x[i] * x[j]\n",
        "u2 = np.linalg.solve(A, x)\n",
        "print(u2)\n",
        "print(u1(x))"
      ]
    },
    {
      "cell_type": "code",
      "source": [
        "def findU(N):\n",
        "  h = np.abs(b - a) / N\n",
        "  x = np.arange(N) * h + h / 2 + a\n",
        "  A = np.zeros((N, N))\n",
        "  I = np.eye(N)\n",
        "  kol = 0\n",
        "  for i in range(N):\n",
        "    for j in range(N):\n",
        "      if i == j:\n",
        "        A[i, j] = h * x[i] * x[j] + 1\n",
        "      else:\n",
        "        A[i, j] = h * x[i] * x[j]\n",
        "  u3 = np.zeros(N)\n",
        "  B = I - A\n",
        "  while True:\n",
        "    kol+=1\n",
        "    prevu3 = u3\n",
        "    u3 = B @ u3 + x\n",
        "    d = np.linalg.norm(u3 - prevu3) / np.linalg.norm(x)\n",
        "    #print(u3, '\\t', np.abs(d))\n",
        "    if d < 0.0001:\n",
        "      return u3, kol"
      ],
      "metadata": {
        "id": "uQ9Yof-9Pnnx"
      },
      "execution_count": 2,
      "outputs": []
    },
    {
      "cell_type": "code",
      "source": [
        "findU(10)"
      ],
      "metadata": {
        "colab": {
          "base_uri": "https://localhost:8080/"
        },
        "id": "XmGR-ocPTTch",
        "outputId": "1d87fc1b-f299-4025-e3b0-1682c535e547"
      },
      "execution_count": 7,
      "outputs": [
        {
          "output_type": "execute_result",
          "data": {
            "text/plain": [
              "(array([0.03752283, 0.1125685 , 0.18761416, 0.26265983, 0.33770549,\n",
              "        0.41275116, 0.48779682, 0.56284249, 0.63788815, 0.71293382]),\n",
              " 10)"
            ]
          },
          "metadata": {},
          "execution_count": 7
        }
      ]
    },
    {
      "cell_type": "code",
      "source": [
        "N = 10\n",
        "h = np.abs(b - a) / N\n",
        "x = np.arange(N) * h + h / 2 + a\n",
        "delt = sum(np.abs(u1(x) - findU(N)[0])) / sum(np.abs(u1(x)))\n",
        "print(delt)"
      ],
      "metadata": {
        "colab": {
          "base_uri": "https://localhost:8080/"
        },
        "id": "8TeYtNtEYzNb",
        "outputId": "7f8c6c3d-73f5-48d7-9094-2726d9a22fe3"
      },
      "execution_count": 6,
      "outputs": [
        {
          "output_type": "stream",
          "name": "stdout",
          "text": [
            "0.0006088640980693838\n"
          ]
        }
      ]
    }
  ]
}